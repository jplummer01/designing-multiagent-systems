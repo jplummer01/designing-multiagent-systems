{
 "cells": [
  {
   "cell_type": "markdown",
   "metadata": {},
   "source": [
    "# Building Your First Agent (Chapter 4)\n",
    "\n",
    "This notebook demonstrates how to create a basic agent with custom tools. You'll learn:\n",
    "\n",
    "- Creating agents with function-based tools\n",
    "- Tool calling and execution\n",
    "- Streaming responses\n",
    "\n",
    "From *\"Designing Multi-Agent Systems\"* by Victor Dibia"
   ]
  },
  {
   "cell_type": "markdown",
   "metadata": {},
   "source": [
    "## Setup\n",
    "\n",
    "First, install PicoAgents (this may take a minute):"
   ]
  },
  {
   "cell_type": "code",
   "execution_count": null,
   "metadata": {},
   "outputs": [],
   "source": [
    "!pip install -q picoagents"
   ]
  },
  {
   "cell_type": "markdown",
   "metadata": {},
   "source": [
    "Set your OpenAI API key:"
   ]
  },
  {
   "cell_type": "code",
   "execution_count": null,
   "metadata": {},
   "outputs": [],
   "source": [
    "import os\n",
    "\n",
    "# Set your API key here\n",
    "os.environ[\"OPENAI_API_KEY\"] = \"your-api-key-here\"  # Replace with your key\n",
    "\n",
    "# Or use Colab secrets (recommended)\n",
    "# from google.colab import userdata\n",
    "# os.environ[\"OPENAI_API_KEY\"] = userdata.get('OPENAI_API_KEY')"
   ]
  },
  {
   "cell_type": "markdown",
   "metadata": {},
   "source": [
    "## Import Libraries"
   ]
  },
  {
   "cell_type": "code",
   "execution_count": null,
   "metadata": {},
   "outputs": [],
   "source": [
    "import asyncio\n",
    "from picoagents import Agent, OpenAIChatCompletionClient"
   ]
  },
  {
   "cell_type": "markdown",
   "metadata": {},
   "source": [
    "## Define Custom Tools\n",
    "\n",
    "Tools are just Python functions! The agent will automatically understand how to use them from the docstrings and type hints."
   ]
  },
  {
   "cell_type": "code",
   "execution_count": null,
   "metadata": {},
   "outputs": [],
   "source": [
    "def get_weather(location: str) -> str:\n",
    "    \"\"\"Get current weather for a given location.\"\"\"\n",
    "    return f\"The weather in {location} is sunny, 75°F\"\n",
    "\n",
    "\n",
    "def calculate(expression: str) -> str:\n",
    "    \"\"\"Perform basic mathematical calculations.\"\"\"\n",
    "    try:\n",
    "        result = eval(expression)\n",
    "        return f\"The result of {expression} is {result}\"\n",
    "    except Exception as e:\n",
    "        return f\"Error calculating {expression}: {e}\""
   ]
  },
  {
   "cell_type": "markdown",
   "metadata": {},
   "source": [
    "## Create the Agent\n",
    "\n",
    "Now we create an agent and give it access to our tools:"
   ]
  },
  {
   "cell_type": "code",
   "execution_count": null,
   "metadata": {},
   "outputs": [],
   "source": [
    "agent = Agent(\n",
    "    name=\"basic_assistant\",\n",
    "    description=\"A helpful assistant with weather and calculator tools\",\n",
    "    instructions=\"You are a helpful assistant with access to weather and calculation tools. Use them when appropriate.\",\n",
    "    model_client=OpenAIChatCompletionClient(model=\"gpt-4o-mini\"),\n",
    "    tools=[get_weather, calculate],\n",
    ")\n",
    "\n",
    "print(f\"Agent created: {agent.name}\")\n",
    "print(f\"Available tools: {[tool.name for tool in agent.tools]}\")"
   ]
  },
  {
   "cell_type": "markdown",
   "metadata": {},
   "source": [
    "## Run the Agent\n",
    "\n",
    "Let's ask the agent a question that requires using both tools:"
   ]
  },
  {
   "cell_type": "code",
   "execution_count": null,
   "metadata": {},
   "outputs": [],
   "source": [
    "async def run_agent():\n",
    "    \"\"\"Run the agent with a sample query.\"\"\"\n",
    "    print(\"\\n=== Running Agent ===\\n\")\n",
    "    \n",
    "    async for event in agent.run_stream(\n",
    "        \"What's the weather in New York and what is 12 * 15?\",\n",
    "        stream_tokens=True\n",
    "    ):\n",
    "        print(event)\n",
    "\n",
    "# Run in Jupyter/Colab\n",
    "await run_agent()"
   ]
  },
  {
   "cell_type": "markdown",
   "metadata": {},
   "source": [
    "## Try It Yourself!\n",
    "\n",
    "Modify the code above to:\n",
    "\n",
    "1. Add a new tool (e.g., `get_time()`, `search_web()`)\n",
    "2. Change the agent's instructions\n",
    "3. Ask different questions\n",
    "\n",
    "## Next Steps\n",
    "\n",
    "- [Agent with Memory](02_agent_with_memory.ipynb) - Add memory to your agents\n",
    "- [Workflows](03_workflows.ipynb) - Coordinate multiple agents\n",
    "- [GitHub Repository](https://github.com/victordibia/designing-multiagent-systems) - Full source code"
   ]
  }
 ],
 "metadata": {
  "kernelspec": {
   "display_name": "Python 3",
   "language": "python",
   "name": "python3"
  },
  "language_info": {
   "codemirror_mode": {
    "name": "ipython",
    "version": 3
   },
   "file_extension": ".py",
   "mimetype": "text/x-python",
   "name": "python",
   "nbconvert_exporter": "python",
   "pygments_lexer": "ipython3",
   "version": "3.11.0"
  }
 },
 "nbformat": 4,
 "nbformat_minor": 4
}
