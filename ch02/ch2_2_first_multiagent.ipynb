{
 "cells": [
  {
   "cell_type": "markdown",
   "metadata": {},
   "source": [
    "## Building Your First Multi-Agent AI App with AutoGen\n",
    "\n",
    "<a target=\"_blank\" href=\"#.ipynb\">\n",
    "  <img src=\"https://colab.research.google.com/assets/colab-badge.svg\" alt=\"Open In Colab\"/>\n",
    "</a>\n",
    "\n",
    "\n",
    "Multi-agent AI apps (a setup where multiple agents powered by GenAI models collaborate autonomously) hold promise in addressing complex tasks. In this notebook, the goal is to explore how we might build an agent workflow that can address multiple tasks.  "
   ]
  },
  {
   "cell_type": "markdown",
   "metadata": {},
   "source": [
    "## LLM Configuration Specification \n",
    "\n",
    "AutoGen agents take an `llm_config` argument that specifies the LLM configuration for an Agent. \n",
    "Importantly, AutoGen standardizes on the openai api format for specifying an LLM. This means the openai and azure openai api are supported out of the box. For Azure Open AI models, the `base_url` and `api_version`  and `api_type` fields are required.\n",
    "\n",
    "- model: The name of the model \n",
    "- api_key: The API key to use.\n",
    "- base_url: The base URL of the LLM api \n",
    "- api_version:  The version of the LLM api (Azure Open AI only)\n",
    "- api_type: The type of LLM api (Azure Open AI only)\n"
   ]
  },
  {
   "cell_type": "code",
   "execution_count": 1,
   "metadata": {},
   "outputs": [],
   "source": [
    "# create your open AI key at https://platform.openai.com/\n",
    "# put that in the root of your repo\n",
    "# this small snippet pulls that key into the OPENAI_API_KEY variable\n",
    "# instead of exposing it directly in the notebook code\n",
    "\n",
    "# Read the API key from the .openai_key file\n",
    "with open('../.openai_key', 'r') as key_file:\n",
    "    OPENAI_API_KEY = key_file.read().strip()"
   ]
  },
  {
   "cell_type": "code",
   "execution_count": 2,
   "metadata": {},
   "outputs": [],
   "source": [
    "import os\n",
    "llm_config = {\"config_list\": [{\n",
    "        \"model\": \"gpt-4o-mini\",\n",
    "        \"api_key\": OPENAI_API_KEY,  # Note, add your own API key here\n",
    "    }],\n",
    "    \"temperature\": 0.9, \n",
    "    \"cache_seed\": 41,\n",
    "}"
   ]
  },
  {
   "cell_type": "markdown",
   "metadata": {},
   "source": [
    "## Defining a Basic Agent Workflow with Two Agents \n",
    "\n",
    "In the following section we will define an agent workflow with only two agents. So what is the orchestation behavior i.e. how the agents interact or decide when to act? Well, this is fairly simple as they will reply to each others messages until the task is completed."
   ]
  },
  {
   "cell_type": "code",
   "execution_count": 3,
   "metadata": {},
   "outputs": [
    {
     "name": "stderr",
     "output_type": "stream",
     "text": [
      "flaml.automl is not available. Please install flaml[automl] to enable AutoML functionalities.\n"
     ]
    },
    {
     "name": "stdout",
     "output_type": "stream",
     "text": [
      "\u001b[33muser_proxy\u001b[0m (to assistant):\n",
      "\n",
      "Plot a chart of NVDA and TESLA stock price change YTD. Save the result to a file named chart.png.\n",
      "\n",
      "--------------------------------------------------------------------------------\n",
      "\u001b[33massistant\u001b[0m (to user_proxy):\n",
      "\n",
      "To plot the chart of NVDA (NVIDIA Corporation) and TESLA (Tesla, Inc.) stock price change Year-To-Date (YTD), I will follow these steps:\n",
      "\n",
      "1. Fetch the YTD stock prices for NVDA and TSLA.\n",
      "2. Plot the prices using a library such as `matplotlib`.\n",
      "3. Save the resulting chart to a file named `chart.png`.\n",
      "\n",
      "I will start by fetching the stock prices using the `yfinance` library, which allows access to stock market data. \n",
      "\n",
      "Here is the complete code to execute:\n",
      "\n",
      "```python\n",
      "# filename: plot_stocks.py\n",
      "import yfinance as yf\n",
      "import matplotlib.pyplot as plt\n",
      "from datetime import datetime\n",
      "\n",
      "# Define the stock symbols\n",
      "stocks = ['NVDA', 'TSLA']\n",
      "\n",
      "# Fetch the data\n",
      "data = yf.download(stocks, start=datetime(datetime.now().year, 1, 1), end=datetime.now())\n",
      "\n",
      "# Calculate YTD changes\n",
      "ytd_prices = data['Adj Close']\n",
      "\n",
      "# Plotting\n",
      "plt.figure(figsize=(10, 5))\n",
      "for stock in stocks:\n",
      "    plt.plot(ytd_prices.index, ytd_prices[stock], label=stock)\n",
      "\n",
      "plt.title('YTD Stock Price Change: NVDA and TSLA')\n",
      "plt.xlabel('Date')\n",
      "plt.ylabel('Price (USD)')\n",
      "plt.legend()\n",
      "plt.grid()\n",
      "plt.savefig('chart.png')\n",
      "plt.close()\n",
      "print('Chart saved as chart.png')\n",
      "```\n",
      "\n",
      "Please save this code into a file named `plot_stocks.py` and then execute it.\n",
      "\n",
      "--------------------------------------------------------------------------------\n",
      "\u001b[31m\n",
      ">>>>>>>> EXECUTING CODE BLOCK 0 (inferred language is python)...\u001b[0m\n",
      "\u001b[33muser_proxy\u001b[0m (to assistant):\n",
      "\n",
      "exitcode: 0 (execution succeeded)\n",
      "Code output: \n",
      "Chart saved as chart.png\n",
      "\n",
      "\n",
      "--------------------------------------------------------------------------------\n",
      "\u001b[33massistant\u001b[0m (to user_proxy):\n",
      "\n",
      "The chart of NVDA and TSLA stock price change YTD has been successfully created and saved as `chart.png`. \n",
      "\n",
      "If you need any further assistance or additional tasks, please let me know. \n",
      "\n",
      "TERMINATE\n",
      "\n",
      "--------------------------------------------------------------------------------\n"
     ]
    }
   ],
   "source": [
    "from autogen import AssistantAgent, UserProxyAgent \n",
    "\n",
    "assistant = AssistantAgent(\n",
    "    name= \"assistant\", llm_config=llm_config)\n",
    "user_proxy = UserProxyAgent(\n",
    "    name = \"user_proxy\", \n",
    "    code_execution_config={\"work_dir\": \n",
    "                           \"data/scratch\", \n",
    "                           \"use_docker\": False},\n",
    "    human_input_mode=\"NEVER\",\n",
    "    is_termination_msg = lambda x: x.get(\"content\", \"\").rstrip().endswith(\"TERMINATE\") if x.get(\"content\") else False \n",
    "    )  \n",
    "\n",
    "chatresults = user_proxy.initiate_chat(assistant, message=\"Plot a chart of NVDA and TESLA stock price change YTD. Save the result to a file named chart.png.\") "
   ]
  },
  {
   "cell_type": "markdown",
   "metadata": {},
   "source": [
    "## Tool Calling \n",
    "\n",
    "In this section we will review the importance of tools. Consider a scenario where our agent workflow needs to generate images. Let's see how they fare. "
   ]
  },
  {
   "cell_type": "code",
   "execution_count": 5,
   "metadata": {},
   "outputs": [
    {
     "name": "stdout",
     "output_type": "stream",
     "text": [
      "\u001b[33muser_proxy\u001b[0m (to assistant):\n",
      "\n",
      "paint a beautiful picture of a cat and a dog playing together.\n",
      "\n",
      "--------------------------------------------------------------------------------\n",
      "\u001b[33massistant\u001b[0m (to user_proxy):\n",
      "\n",
      "I can help you create a simple \"painting\" of a cat and a dog playing together using Python code with ASCII art. This won't be a traditional painting but a creative representation using characters. Let's do it step by step.\n",
      "\n",
      "First, we will create a simple ASCII art of a cat and a dog playing together. Bear in mind that ASCII art is quite limited in detail, so \"beautiful\" is subjective and this will be a basic representation. \n",
      "\n",
      "```python\n",
      "# filename: cat_and_dog_playing.py\n",
      "\n",
      "# Cat and Dog Playing Together in ASCII Art\n",
      "\n",
      "print(\"\"\"\n",
      "    /\\_/\\  \n",
      "   ( o.o ) > What a beautiful day to play!\n",
      "    > ^ <                           /    \n",
      "         ______                    /     \n",
      "    _/|_||_||_\\__               \\|/      \n",
      "   /___n_n___\\                  (o o)    \n",
      "    /       \\__                -(\")-    \n",
      "   /| |     || |\\                 U     \n",
      "_| | |     || | |_\n",
      "\"\"\")\n",
      "\n",
      "```\n",
      "\n",
      "Please save this Python code in a file named `cat_and_dog_playing.py` and run it. This code will print a simple representation of a cat and a dog playing together using ASCII characters. \n",
      "\n",
      "To execute this, you need Python installed on your machine. Open your terminal (or command prompt), navigate to the directory where you saved `cat_and_dog_playing.py`, and run it with the command:\n",
      "```sh\n",
      "python cat_and_dog_playing.py\n",
      "```\n",
      "\n",
      "--------------------------------------------------------------------------------\n",
      "\u001b[31m\n",
      ">>>>>>>> EXECUTING CODE BLOCK 0 (inferred language is python)...\u001b[0m\n",
      "\u001b[31m\n",
      ">>>>>>>> EXECUTING CODE BLOCK 1 (inferred language is sh)...\u001b[0m\n",
      "\u001b[33muser_proxy\u001b[0m (to assistant):\n",
      "\n",
      "exitcode: 0 (execution succeeded)\n",
      "Code output: \n",
      "\n",
      "    /\\_/\\  \n",
      "   ( o.o ) > What a beautiful day to play!\n",
      "    > ^ <                           /    \n",
      "         ______                    /     \n",
      "    _/|_||_||_\\__               \\|/      \n",
      "   /___n_n___\\                  (o o)    \n",
      "    /       \\__                -(\")-    \n",
      "   /| |     || |\\                 U     \n",
      "_| | |     || | |_\n",
      "\n",
      "\n",
      "\n",
      "    /\\_/\\  \n",
      "   ( o.o ) > What a beautiful day to play!\n",
      "    > ^ <                           /    \n",
      "         ______                    /     \n",
      "    _/|_||_||_\\__               \\|/      \n",
      "   /___n_n___\\                  (o o)    \n",
      "    /       \\__                -(\")-    \n",
      "   /| |     || |\\                 U     \n",
      "_| | |     || | |_\n",
      "\n",
      "\n",
      "\n",
      "--------------------------------------------------------------------------------\n",
      "\u001b[33massistant\u001b[0m (to user_proxy):\n",
      "\n",
      "Great! You successfully executed the Python script, and it printed our simple ASCII art of a cat and a dog playing together. Though simple, this representation captures a playful scene between two beloved pets. ASCII art has its charm by conveying images through characters, offering a creative and text-based way to \"paint\" pictures.\n",
      "\n",
      "If you have any more tasks or need further assistance, feel free to ask. Otherwise, I hope you enjoyed this small creative project! \n",
      "\n",
      "TERMINATE\n",
      "\n",
      "--------------------------------------------------------------------------------\n"
     ]
    },
    {
     "data": {
      "text/plain": [
       "ChatResult(chat_id=None, chat_history=[{'content': 'paint a beautiful picture of a cat and a dog playing together.', 'role': 'assistant'}, {'content': 'I can help you create a simple \"painting\" of a cat and a dog playing together using Python code with ASCII art. This won\\'t be a traditional painting but a creative representation using characters. Let\\'s do it step by step.\\n\\nFirst, we will create a simple ASCII art of a cat and a dog playing together. Bear in mind that ASCII art is quite limited in detail, so \"beautiful\" is subjective and this will be a basic representation. \\n\\n```python\\n# filename: cat_and_dog_playing.py\\n\\n# Cat and Dog Playing Together in ASCII Art\\n\\nprint(\"\"\"\\n    /\\\\_/\\\\  \\n   ( o.o ) > What a beautiful day to play!\\n    > ^ <                           /    \\n         ______                    /     \\n    _/|_||_||_\\\\__               \\\\|/      \\n   /___n_n___\\\\                  (o o)    \\n    /       \\\\__                -(\")-    \\n   /| |     || |\\\\                 U     \\n_| | |     || | |_\\n\"\"\")\\n\\n```\\n\\nPlease save this Python code in a file named `cat_and_dog_playing.py` and run it. This code will print a simple representation of a cat and a dog playing together using ASCII characters. \\n\\nTo execute this, you need Python installed on your machine. Open your terminal (or command prompt), navigate to the directory where you saved `cat_and_dog_playing.py`, and run it with the command:\\n```sh\\npython cat_and_dog_playing.py\\n```', 'role': 'user'}, {'content': 'exitcode: 0 (execution succeeded)\\nCode output: \\n\\n    /\\\\_/\\\\  \\n   ( o.o ) > What a beautiful day to play!\\n    > ^ <                           /    \\n         ______                    /     \\n    _/|_||_||_\\\\__               \\\\|/      \\n   /___n_n___\\\\                  (o o)    \\n    /       \\\\__                -(\")-    \\n   /| |     || |\\\\                 U     \\n_| | |     || | |_\\n\\n\\n\\n    /\\\\_/\\\\  \\n   ( o.o ) > What a beautiful day to play!\\n    > ^ <                           /    \\n         ______                    /     \\n    _/|_||_||_\\\\__               \\\\|/      \\n   /___n_n___\\\\                  (o o)    \\n    /       \\\\__                -(\")-    \\n   /| |     || |\\\\                 U     \\n_| | |     || | |_\\n\\n', 'role': 'assistant'}, {'content': 'Great! You successfully executed the Python script, and it printed our simple ASCII art of a cat and a dog playing together. Though simple, this representation captures a playful scene between two beloved pets. ASCII art has its charm by conveying images through characters, offering a creative and text-based way to \"paint\" pictures.\\n\\nIf you have any more tasks or need further assistance, feel free to ask. Otherwise, I hope you enjoyed this small creative project! \\n\\nTERMINATE', 'role': 'user'}], summary='Great! You successfully executed the Python script, and it printed our simple ASCII art of a cat and a dog playing together. Though simple, this representation captures a playful scene between two beloved pets. ASCII art has its charm by conveying images through characters, offering a creative and text-based way to \"paint\" pictures.\\n\\nIf you have any more tasks or need further assistance, feel free to ask. Otherwise, I hope you enjoyed this small creative project! \\n\\n', cost={'usage_including_cached_inference': {'total_cost': 0.25031000000000003, 'gpt-4-0125-preview': {'cost': 0.25031000000000003, 'prompt_tokens': 16865, 'completion_tokens': 2722, 'total_tokens': 19587}}, 'usage_excluding_cached_inference': {'total_cost': 0.18083000000000002, 'gpt-4-0125-preview': {'cost': 0.18083000000000002, 'prompt_tokens': 13421, 'completion_tokens': 1554, 'total_tokens': 14975}}}, human_input=[])"
      ]
     },
     "execution_count": 5,
     "metadata": {},
     "output_type": "execute_result"
    }
   ],
   "source": [
    "user_proxy.initiate_chat(assistant, message=\"paint a beautiful picture of a cat and a dog playing together.\")"
   ]
  },
  {
   "cell_type": "markdown",
   "metadata": {},
   "source": [
    "Above, the agents do not fare particularly well. They take a simple approach and generate ascii art images. Depending on how this specific task is framed, the agents could explore even more problemative approaches - e.g., attempting to install random image generation libraries, assuming the availability of a GPU, might hallucinate methods in libraries, encounter multiple errors, retries etc. All very inefficient.\n",
    "\n",
    "In cases like the above, where we have a specific approach to solving the task, we can provide the agents with tools that encode our approach."
   ]
  },
  {
   "cell_type": "code",
   "execution_count": 6,
   "metadata": {},
   "outputs": [],
   "source": [
    "from typing import List\n",
    "import uuid\n",
    "import requests\n",
    "from pathlib import Path\n",
    "from openai import OpenAI\n",
    "\n",
    "def generate_and_save_images(query: str, image_size: str = \"1024x1024\") -> List[str]:\n",
    "    client = OpenAI()\n",
    "    response = client.images.generate(model=\"dall-e-3\", prompt=query, n=1, size=image_size)\n",
    "    saved_files = []\n",
    "    if response.data:\n",
    "        for image_data in response.data:\n",
    "            file_name = str(uuid.uuid4()) + \".png\" \n",
    "            file_path = Path(\"data\") / file_name\n",
    "            img_url = image_data.url\n",
    "            img_response = requests.get(img_url)\n",
    "            if img_response.status_code == 200:\n",
    "                with open(file_path, \"wb\") as img_file:\n",
    "                    img_file.write(img_response.content)\n",
    "                    saved_files.append(str(file_path))\n",
    "                    print(f\"Image generated and saved to {file_path}\")\n",
    "    return saved_files "
   ]
  },
  {
   "cell_type": "code",
   "execution_count": 7,
   "metadata": {},
   "outputs": [],
   "source": [
    "\n",
    "from autogen import register_function\n",
    "register_function(\n",
    "    generate_and_save_images,\n",
    "    caller=assistant,  # The assistant agent can suggest calls to the  function\n",
    "    executor=user_proxy,  # The user proxy agent can execute the function call.\n",
    "    name=\"generate_and_save_images\",  # By default, the function name is used as the tool name.\n",
    "    description=\"Generate images using DALL-E\",\n",
    ")"
   ]
  },
  {
   "cell_type": "code",
   "execution_count": 9,
   "metadata": {},
   "outputs": [
    {
     "name": "stdout",
     "output_type": "stream",
     "text": [
      "\u001b[33muser_proxy\u001b[0m (to assistant):\n",
      "\n",
      "paint a beautiful picture of a cat and a dog playing together.\n",
      "\n",
      "--------------------------------------------------------------------------------\n"
     ]
    },
    {
     "name": "stdout",
     "output_type": "stream",
     "text": [
      "\u001b[33massistant\u001b[0m (to user_proxy):\n",
      "\n",
      "\u001b[32m***** Suggested tool call (call_bSDUgG9khJB15diBTZDsKdDe): generate_and_save_images *****\u001b[0m\n",
      "Arguments: \n",
      "{\"query\":\"a cat and a dog playing together, beautiful\"}\n",
      "\u001b[32m*****************************************************************************************\u001b[0m\n",
      "\n",
      "--------------------------------------------------------------------------------\n",
      "\u001b[35m\n",
      ">>>>>>>> EXECUTING FUNCTION generate_and_save_images...\u001b[0m\n",
      "Image generated and saved to data/8fcf212f-7119-48ca-b0b8-302932fdf3fb.png\n",
      "\u001b[33muser_proxy\u001b[0m (to assistant):\n",
      "\n",
      "\u001b[33muser_proxy\u001b[0m (to assistant):\n",
      "\n",
      "\u001b[32m***** Response from calling tool (call_bSDUgG9khJB15diBTZDsKdDe) *****\u001b[0m\n",
      "[\"data/8fcf212f-7119-48ca-b0b8-302932fdf3fb.png\"]\n",
      "\u001b[32m**********************************************************************\u001b[0m\n",
      "\n",
      "--------------------------------------------------------------------------------\n",
      "\u001b[33massistant\u001b[0m (to user_proxy):\n",
      "\n",
      "I've created a beautiful picture of a cat and a dog playing together. You can view the picture by following the link below:\n",
      "\n",
      "[View Picture](sandbox:/data/8fcf212f-7119-48ca-b0b8-302932fdf3fb.png)\n",
      "\n",
      "TERMINATE\n",
      "\n",
      "--------------------------------------------------------------------------------\n"
     ]
    },
    {
     "data": {
      "text/plain": [
       "ChatResult(chat_id=None, chat_history=[{'content': 'paint a beautiful picture of a cat and a dog playing together.', 'role': 'assistant'}, {'tool_calls': [{'id': 'call_bSDUgG9khJB15diBTZDsKdDe', 'function': {'arguments': '{\"query\":\"a cat and a dog playing together, beautiful\"}', 'name': 'generate_and_save_images'}, 'type': 'function'}], 'content': None, 'role': 'assistant'}, {'content': '[\"data/8fcf212f-7119-48ca-b0b8-302932fdf3fb.png\"]', 'tool_responses': [{'tool_call_id': 'call_bSDUgG9khJB15diBTZDsKdDe', 'role': 'tool', 'content': '[\"data/8fcf212f-7119-48ca-b0b8-302932fdf3fb.png\"]'}], 'role': 'tool'}, {'content': \"I've created a beautiful picture of a cat and a dog playing together. You can view the picture by following the link below:\\n\\n[View Picture](sandbox:/data/8fcf212f-7119-48ca-b0b8-302932fdf3fb.png)\\n\\nTERMINATE\", 'role': 'user'}], summary=\"I've created a beautiful picture of a cat and a dog playing together. You can view the picture by following the link below:\\n\\n[View Picture](sandbox:/data/8fcf212f-7119-48ca-b0b8-302932fdf3fb.png)\\n\\n\", cost={'usage_including_cached_inference': {'total_cost': 0.02765, 'gpt-4-0125-preview': {'cost': 0.02765, 'prompt_tokens': 2291, 'completion_tokens': 158, 'total_tokens': 2449}}, 'usage_excluding_cached_inference': {'total_cost': 0.02162, 'gpt-4-0125-preview': {'cost': 0.02162, 'prompt_tokens': 1748, 'completion_tokens': 138, 'total_tokens': 1886}}}, human_input=[])"
      ]
     },
     "execution_count": 9,
     "metadata": {},
     "output_type": "execute_result"
    }
   ],
   "source": [
    "user_proxy.initiate_chat(assistant, message=\"paint a beautiful picture of a cat and a dog playing together.\")"
   ]
  },
  {
   "cell_type": "code",
   "execution_count": null,
   "metadata": {},
   "outputs": [],
   "source": []
  }
 ],
 "metadata": {
  "kernelspec": {
   "display_name": "Python 3 (ipykernel)",
   "language": "python",
   "name": "python3"
  },
  "language_info": {
   "codemirror_mode": {
    "name": "ipython",
    "version": 3
   },
   "file_extension": ".py",
   "mimetype": "text/x-python",
   "name": "python",
   "nbconvert_exporter": "python",
   "pygments_lexer": "ipython3",
   "version": "3.11.6"
  }
 },
 "nbformat": 4,
 "nbformat_minor": 4
}
